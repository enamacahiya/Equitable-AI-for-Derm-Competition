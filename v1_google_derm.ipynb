{
  "cells": [
    {
      "cell_type": "markdown",
      "metadata": {
        "id": "view-in-github",
        "colab_type": "text"
      },
      "source": [
        "<a href=\"https://colab.research.google.com/github/enamacahiya/Equitable-AI-for-Derm-Competition/blob/main/v1_google_derm.ipynb\" target=\"_parent\"><img src=\"https://colab.research.google.com/assets/colab-badge.svg\" alt=\"Open In Colab\"/></a>"
      ]
    },
    {
      "cell_type": "code",
      "execution_count": null,
      "metadata": {
        "id": "QMFRR-t9ftPX"
      },
      "outputs": [],
      "source": [
        "# Authenticate user for HuggingFace if needed. Enter token below if requested.\n",
        "from huggingface_hub import login\n",
        "\n",
        "hf_token = '' # enter token here\n",
        "login(hf_token)"
      ]
    },
    {
      "cell_type": "code",
      "execution_count": null,
      "metadata": {
        "id": "8D8MJvxiVqXB"
      },
      "outputs": [],
      "source": [
        "import os\n",
        "import tensorflow as tf\n",
        "import numpy as np\n",
        "import pandas as pd\n",
        "import cv2\n",
        "from io import BytesIO\n",
        "from PIL import Image\n",
        "from huggingface_hub import from_pretrained_keras\n",
        "from sklearn.preprocessing import LabelEncoder\n",
        "from sklearn.model_selection import train_test_split\n",
        "from tensorflow.keras.utils import to_categorical\n",
        "from tensorflow.keras.models import Sequential\n",
        "from tensorflow.keras.layers import Dense, Dropout, BatchNormalization\n",
        "from tensorflow.keras.optimizers import Adam\n",
        "from tensorflow.keras.callbacks import EarlyStopping\n",
        "import tensorflow as tf\n",
        "from tensorflow.keras.models import load_model\n",
        "from tensorflow.keras import backend as K"
      ]
    },
    {
      "cell_type": "code",
      "execution_count": null,
      "metadata": {
        "id": "Udtf1swlpXNP",
        "outputId": "f58c3715-c08c-4db2-ee9f-5040be6df162"
      },
      "outputs": [
        {
          "name": "stdout",
          "output_type": "stream",
          "text": [
            "Train embeddings shape: (2288, 6144)\n",
            "Train labels shape: (2288, 21)\n"
          ]
        }
      ],
      "source": [
        "np.save(\"content/train_embeddings.npy\", train_embeddings)\n",
        "np.save(\"content/train_labels.npy\", train_labels)\n",
        "np.save(\"content/val_embeddings.npy\", val_embeddings)\n",
        "np.save(\"content/val_labels.npy\", val_labels)\n",
        "\n",
        "print(f\"Train embeddings shape: {train_embeddings.shape}\")  # (1600, 6144)\n",
        "print(f\"Train labels shape: {train_labels.shape}\")  # (1600, 21)"
      ]
    },
    {
      "cell_type": "code",
      "execution_count": null,
      "metadata": {
        "colab": {
          "base_uri": "https://localhost:8080/",
          "height": 190,
          "referenced_widgets": [
            "d1733079faed45238448bebbcd7e718c",
            "4fb2ef65fac04099a9baa4f514ba0659",
            "37945b60ddc44a358ffa1dc20fb86f3d",
            "77b55fea3be0472b8bf653bc5d07050a",
            "9d4cb9dc822c47e499c6a839a2a50808",
            "a8663f0a16b8403cb2973d6751a5c4e9",
            "16aacd7e7d2a43169e4f72a86aff6fd5",
            "4cc6533e27384eb98e6a9548a4b8ac6c",
            "158f2be2b6b1468eaa71d6fd8ff44238",
            "e0e0943e6b744f4b8d434adf215cac50",
            "64c6a35a2de44169aa6f0f0a342c08ba",
            "842f904f4dd043ccb3d0a89ce466b515"
          ]
        },
        "id": "AqBozjTJd_pc",
        "outputId": "d1c95833-96ef-49fa-f856-3f09d60a9315"
      },
      "outputs": [
        {
          "data": {
            "application/vnd.jupyter.widget-view+json": {
              "model_id": "842f904f4dd043ccb3d0a89ce466b515",
              "version_major": 2,
              "version_minor": 0
            },
            "text/plain": [
              "Fetching 7 files:   0%|          | 0/7 [00:00<?, ?it/s]"
            ]
          },
          "metadata": {},
          "output_type": "display_data"
        },
        {
          "name": "stdout",
          "output_type": "stream",
          "text": [
            "WARNING:tensorflow:SavedModel saved prior to TF 2.5 detected when loading Keras model. Please ensure that you are saving the model with model.save() or tf.keras.models.save_model(), *NOT* tf.saved_model.save(). To confirm, there should be a file named \"keras_metadata.pb\" in the SavedModel directory.\n",
            "Processed 32/2288 images...\n",
            "Processed 64/2288 images...\n",
            "Processed 96/2288 images...\n",
            "Processed 128/2288 images...\n",
            "Processed 160/2288 images...\n",
            "Processed 192/2288 images...\n",
            "Processed 224/2288 images...\n",
            "Processed 256/2288 images...\n",
            "Processed 288/2288 images...\n",
            "Processed 320/2288 images...\n",
            "Processed 352/2288 images...\n",
            "Processed 384/2288 images...\n",
            "Processed 416/2288 images...\n",
            "Processed 448/2288 images...\n",
            "Processed 480/2288 images...\n",
            "Processed 512/2288 images...\n",
            "Processed 544/2288 images...\n",
            "Processed 576/2288 images...\n",
            "Processed 608/2288 images...\n",
            "Processed 640/2288 images...\n",
            "Processed 672/2288 images...\n",
            "Processed 704/2288 images...\n",
            "Processed 736/2288 images...\n",
            "Processed 768/2288 images...\n",
            "Processed 800/2288 images...\n",
            "Processed 832/2288 images...\n",
            "Processed 864/2288 images...\n",
            "Processed 896/2288 images...\n",
            "Processed 928/2288 images...\n",
            "Processed 960/2288 images...\n",
            "Processed 992/2288 images...\n",
            "Processed 1024/2288 images...\n",
            "Processed 1056/2288 images...\n",
            "Processed 1088/2288 images...\n",
            "Processed 1120/2288 images...\n",
            "Processed 1152/2288 images...\n",
            "Processed 1184/2288 images...\n",
            "Processed 1216/2288 images...\n",
            "Processed 1248/2288 images...\n",
            "Processed 1280/2288 images...\n",
            "Processed 1312/2288 images...\n",
            "Processed 1344/2288 images...\n",
            "Processed 1376/2288 images...\n",
            "Processed 1408/2288 images...\n",
            "Processed 1440/2288 images...\n",
            "Processed 1472/2288 images...\n",
            "Processed 1504/2288 images...\n",
            "Processed 1536/2288 images...\n",
            "Processed 1568/2288 images...\n",
            "Processed 1600/2288 images...\n",
            "Processed 1632/2288 images...\n",
            "Processed 1664/2288 images...\n",
            "Processed 1696/2288 images...\n",
            "Processed 1728/2288 images...\n",
            "Processed 1760/2288 images...\n",
            "Processed 1792/2288 images...\n",
            "Processed 1824/2288 images...\n",
            "Processed 1856/2288 images...\n",
            "Processed 1888/2288 images...\n",
            "Processed 1920/2288 images...\n",
            "Processed 1952/2288 images...\n",
            "Processed 1984/2288 images...\n",
            "Processed 2016/2288 images...\n",
            "Processed 2048/2288 images...\n",
            "Processed 2080/2288 images...\n",
            "Processed 2112/2288 images...\n",
            "Processed 2144/2288 images...\n",
            "Processed 2176/2288 images...\n",
            "Processed 2208/2288 images...\n",
            "Processed 2240/2288 images...\n",
            "Processed 2272/2288 images...\n",
            "Processed 2288/2288 images...\n",
            "✅ Feature extraction complete!\n",
            "Processed 32/572 images...\n",
            "Processed 64/572 images...\n",
            "Processed 96/572 images...\n",
            "Processed 128/572 images...\n",
            "Processed 160/572 images...\n",
            "Processed 192/572 images...\n",
            "Processed 224/572 images...\n",
            "Processed 256/572 images...\n",
            "Processed 288/572 images...\n",
            "Processed 320/572 images...\n",
            "Processed 352/572 images...\n",
            "Processed 384/572 images...\n",
            "Processed 416/572 images...\n",
            "Processed 448/572 images...\n",
            "Processed 480/572 images...\n",
            "Processed 512/572 images...\n",
            "Processed 544/572 images...\n",
            "Processed 572/572 images...\n",
            "✅ Feature extraction complete!\n"
          ]
        },
        {
          "ename": "FileNotFoundError",
          "evalue": "[Errno 2] No such file or directory: '/content/train_embeddings.npy'",
          "output_type": "error",
          "traceback": [
            "\u001b[31m---------------------------------------------------------------------------\u001b[39m",
            "\u001b[31mFileNotFoundError\u001b[39m                         Traceback (most recent call last)",
            "\u001b[36mCell\u001b[39m\u001b[36m \u001b[39m\u001b[32mIn[19]\u001b[39m\u001b[32m, line 87\u001b[39m\n\u001b[32m     84\u001b[39m train_labels = to_categorical(train_labels, num_classes=num_classes)\n\u001b[32m     85\u001b[39m val_labels = to_categorical(val_labels, num_classes=num_classes)\n\u001b[32m---> \u001b[39m\u001b[32m87\u001b[39m \u001b[43mnp\u001b[49m\u001b[43m.\u001b[49m\u001b[43msave\u001b[49m\u001b[43m(\u001b[49m\u001b[33;43m\"\u001b[39;49m\u001b[33;43m/content/train_embeddings.npy\u001b[39;49m\u001b[33;43m\"\u001b[39;49m\u001b[43m,\u001b[49m\u001b[43m \u001b[49m\u001b[43mtrain_embeddings\u001b[49m\u001b[43m)\u001b[49m\n\u001b[32m     88\u001b[39m np.save(\u001b[33m\"\u001b[39m\u001b[33m/content/train_labels.npy\u001b[39m\u001b[33m\"\u001b[39m, train_labels)\n\u001b[32m     89\u001b[39m np.save(\u001b[33m\"\u001b[39m\u001b[33m/content/val_embeddings.npy\u001b[39m\u001b[33m\"\u001b[39m, val_embeddings)\n",
            "\u001b[36mFile \u001b[39m\u001b[32mc:\\Users\\Creator\\AppData\\Local\\Programs\\Python\\Python311\\Lib\\site-packages\\numpy\\lib\\npyio.py:542\u001b[39m, in \u001b[36msave\u001b[39m\u001b[34m(file, arr, allow_pickle, fix_imports)\u001b[39m\n\u001b[32m    540\u001b[39m     \u001b[38;5;28;01mif\u001b[39;00m \u001b[38;5;129;01mnot\u001b[39;00m file.endswith(\u001b[33m'\u001b[39m\u001b[33m.npy\u001b[39m\u001b[33m'\u001b[39m):\n\u001b[32m    541\u001b[39m         file = file + \u001b[33m'\u001b[39m\u001b[33m.npy\u001b[39m\u001b[33m'\u001b[39m\n\u001b[32m--> \u001b[39m\u001b[32m542\u001b[39m     file_ctx = \u001b[38;5;28;43mopen\u001b[39;49m\u001b[43m(\u001b[49m\u001b[43mfile\u001b[49m\u001b[43m,\u001b[49m\u001b[43m \u001b[49m\u001b[33;43m\"\u001b[39;49m\u001b[33;43mwb\u001b[39;49m\u001b[33;43m\"\u001b[39;49m\u001b[43m)\u001b[49m\n\u001b[32m    544\u001b[39m \u001b[38;5;28;01mwith\u001b[39;00m file_ctx \u001b[38;5;28;01mas\u001b[39;00m fid:\n\u001b[32m    545\u001b[39m     arr = np.asanyarray(arr)\n",
            "\u001b[31mFileNotFoundError\u001b[39m: [Errno 2] No such file or directory: '/content/train_embeddings.npy'"
          ]
        }
      ],
      "source": [
        "base_model = from_pretrained_keras(\"google/derm-foundation\")\n",
        "\n",
        "train_df = pd.read_csv('bttai-ajl-2025/train.csv')\n",
        "\n",
        "train_df['file_path'] = 'bttai-ajl-2025/train/train/' + train_df['label'] + '/' + train_df['md5hash'] + '.jpg'\n",
        "\n",
        "label_encoder = LabelEncoder()\n",
        "train_df['encoded_label'] = label_encoder.fit_transform(train_df['label'])\n",
        "\n",
        "train_data, val_data = train_test_split(train_df, test_size=0.2, random_state=42)\n",
        "\n",
        "def encode_image_to_tfexample(image_path):\n",
        "    if not os.path.exists(image_path):\n",
        "        print(f\"file not exist: {image_path}\")\n",
        "        return None\n",
        "\n",
        "    img = Image.open(image_path).convert('RGB')\n",
        "    buf = BytesIO()\n",
        "    img.save(buf, format=\"PNG\")\n",
        "    image_bytes = buf.getvalue()\n",
        "\n",
        "    input_tensor = tf.train.Example(features=tf.train.Features(\n",
        "        feature={\n",
        "            'image/encoded': tf.train.Feature(\n",
        "                bytes_list=tf.train.BytesList(value=[image_bytes]))\n",
        "        }\n",
        "    )).SerializeToString()\n",
        "\n",
        "    return input_tensor\n",
        "\n",
        "def extract_embeddings(df):\n",
        "    embeddings = []\n",
        "    labels = []\n",
        "\n",
        "    batch_size = 32\n",
        "    batch_images = []\n",
        "    batch_labels = []\n",
        "    total_samples = len(df)\n",
        "    processed_samples = 0\n",
        "\n",
        "    for idx, row in df.iterrows():\n",
        "        encoded_image = encode_image_to_tfexample(row['file_path'])\n",
        "        if encoded_image is None:\n",
        "            continue\n",
        "\n",
        "        batch_images.append(encoded_image)\n",
        "        batch_labels.append(row['encoded_label'])\n",
        "\n",
        "        if len(batch_images) == batch_size:\n",
        "            input_tensor = tf.constant(batch_images)\n",
        "            infer = base_model.signatures[\"serving_default\"]\n",
        "            output = infer(inputs=input_tensor)\n",
        "            batch_embeddings = output['embedding'].numpy()\n",
        "\n",
        "            embeddings.extend(batch_embeddings)\n",
        "            labels.extend(batch_labels)\n",
        "\n",
        "            processed_samples += len(batch_images)\n",
        "            print(f\"Processed {processed_samples}/{total_samples} images...\")\n",
        "\n",
        "            batch_images = []\n",
        "            batch_labels = []\n",
        "\n",
        "    if batch_images:\n",
        "        input_tensor = tf.constant(batch_images)\n",
        "        infer = base_model.signatures[\"serving_default\"]\n",
        "        output = infer(inputs=input_tensor)\n",
        "        batch_embeddings = output['embedding'].numpy()\n",
        "\n",
        "        embeddings.extend(batch_embeddings)\n",
        "        labels.extend(batch_labels)\n",
        "\n",
        "        processed_samples += len(batch_images)\n",
        "        print(f\"Processed {processed_samples}/{total_samples} images...\")\n",
        "\n",
        "    print(\"✅ Feature extraction complete!\")\n",
        "\n",
        "    return np.array(embeddings), np.array(labels)\n",
        "\n",
        "train_embeddings, train_labels = extract_embeddings(train_data)\n",
        "val_embeddings, val_labels = extract_embeddings(val_data)\n",
        "\n",
        "num_classes = len(label_encoder.classes_)\n",
        "train_labels = to_categorical(train_labels, num_classes=num_classes)\n",
        "val_labels = to_categorical(val_labels, num_classes=num_classes)"
      ]
    },
    {
      "cell_type": "code",
      "execution_count": null,
      "metadata": {
        "id": "-amzwnmLpXNP",
        "outputId": "9da24497-00f2-49d2-d2d4-8f76aaf7ddc5"
      },
      "outputs": [
        {
          "name": "stdout",
          "output_type": "stream",
          "text": [
            "Epoch 1/500\n"
          ]
        },
        {
          "name": "stderr",
          "output_type": "stream",
          "text": [
            "c:\\Users\\Creator\\AppData\\Local\\Programs\\Python\\Python311\\Lib\\site-packages\\keras\\src\\layers\\core\\dense.py:87: UserWarning: Do not pass an `input_shape`/`input_dim` argument to a layer. When using Sequential models, prefer using an `Input(shape)` object as the first layer in the model instead.\n",
            "  super().__init__(activity_regularizer=activity_regularizer, **kwargs)\n"
          ]
        },
        {
          "name": "stdout",
          "output_type": "stream",
          "text": [
            "\u001b[1m36/36\u001b[0m \u001b[32m━━━━━━━━━━━━━━━━━━━━\u001b[0m\u001b[37m\u001b[0m \u001b[1m3s\u001b[0m 42ms/step - accuracy: 0.1319 - f1_score: 0.0481 - loss: 0.8476 - val_accuracy: 0.5052 - val_f1_score: 0.0672 - val_loss: 0.4005\n",
            "Epoch 2/500\n",
            "\u001b[1m36/36\u001b[0m \u001b[32m━━━━━━━━━━━━━━━━━━━━\u001b[0m\u001b[37m\u001b[0m \u001b[1m1s\u001b[0m 37ms/step - accuracy: 0.3797 - f1_score: 0.2256 - loss: 0.4578 - val_accuracy: 0.5664 - val_f1_score: 0.1679 - val_loss: 0.3053\n",
            "Epoch 3/500\n",
            "\u001b[1m36/36\u001b[0m \u001b[32m━━━━━━━━━━━━━━━━━━━━\u001b[0m\u001b[37m\u001b[0m \u001b[1m1s\u001b[0m 36ms/step - accuracy: 0.4538 - f1_score: 0.2740 - loss: 0.3919 - val_accuracy: 0.6031 - val_f1_score: 0.2451 - val_loss: 0.2688\n",
            "Epoch 4/500\n",
            "\u001b[1m36/36\u001b[0m \u001b[32m━━━━━━━━━━━━━━━━━━━━\u001b[0m\u001b[37m\u001b[0m \u001b[1m1s\u001b[0m 36ms/step - accuracy: 0.4938 - f1_score: 0.3184 - loss: 0.3514 - val_accuracy: 0.6171 - val_f1_score: 0.2874 - val_loss: 0.2448\n",
            "Epoch 5/500\n",
            "\u001b[1m36/36\u001b[0m \u001b[32m━━━━━━━━━━━━━━━━━━━━\u001b[0m\u001b[37m\u001b[0m \u001b[1m1s\u001b[0m 37ms/step - accuracy: 0.5276 - f1_score: 0.3235 - loss: 0.3134 - val_accuracy: 0.6434 - val_f1_score: 0.3602 - val_loss: 0.2303\n",
            "Epoch 6/500\n",
            "\u001b[1m36/36\u001b[0m \u001b[32m━━━━━━━━━━━━━━━━━━━━\u001b[0m\u001b[37m\u001b[0m \u001b[1m1s\u001b[0m 36ms/step - accuracy: 0.5666 - f1_score: 0.3844 - loss: 0.2977 - val_accuracy: 0.6503 - val_f1_score: 0.3745 - val_loss: 0.2270\n",
            "Epoch 7/500\n",
            "\u001b[1m36/36\u001b[0m \u001b[32m━━━━━━━━━━━━━━━━━━━━\u001b[0m\u001b[37m\u001b[0m \u001b[1m1s\u001b[0m 37ms/step - accuracy: 0.5705 - f1_score: 0.3980 - loss: 0.2770 - val_accuracy: 0.6486 - val_f1_score: 0.3956 - val_loss: 0.2182\n",
            "Epoch 8/500\n",
            "\u001b[1m36/36\u001b[0m \u001b[32m━━━━━━━━━━━━━━━━━━━━\u001b[0m\u001b[37m\u001b[0m \u001b[1m1s\u001b[0m 37ms/step - accuracy: 0.5784 - f1_score: 0.4246 - loss: 0.2652 - val_accuracy: 0.6573 - val_f1_score: 0.4278 - val_loss: 0.2162\n",
            "Epoch 9/500\n",
            "\u001b[1m36/36\u001b[0m \u001b[32m━━━━━━━━━━━━━━━━━━━━\u001b[0m\u001b[37m\u001b[0m \u001b[1m1s\u001b[0m 36ms/step - accuracy: 0.5953 - f1_score: 0.4171 - loss: 0.2454 - val_accuracy: 0.6556 - val_f1_score: 0.4442 - val_loss: 0.2122\n",
            "Epoch 10/500\n",
            "\u001b[1m36/36\u001b[0m \u001b[32m━━━━━━━━━━━━━━━━━━━━\u001b[0m\u001b[37m\u001b[0m \u001b[1m1s\u001b[0m 36ms/step - accuracy: 0.6112 - f1_score: 0.4480 - loss: 0.2318 - val_accuracy: 0.6626 - val_f1_score: 0.4446 - val_loss: 0.2165\n",
            "Epoch 11/500\n",
            "\u001b[1m36/36\u001b[0m \u001b[32m━━━━━━━━━━━━━━━━━━━━\u001b[0m\u001b[37m\u001b[0m \u001b[1m1s\u001b[0m 37ms/step - accuracy: 0.6274 - f1_score: 0.4361 - loss: 0.2179 - val_accuracy: 0.6696 - val_f1_score: 0.4599 - val_loss: 0.2113\n",
            "Epoch 12/500\n",
            "\u001b[1m36/36\u001b[0m \u001b[32m━━━━━━━━━━━━━━━━━━━━\u001b[0m\u001b[37m\u001b[0m \u001b[1m1s\u001b[0m 36ms/step - accuracy: 0.6317 - f1_score: 0.4702 - loss: 0.2127 - val_accuracy: 0.6626 - val_f1_score: 0.4599 - val_loss: 0.2080\n",
            "Epoch 13/500\n",
            "\u001b[1m36/36\u001b[0m \u001b[32m━━━━━━━━━━━━━━━━━━━━\u001b[0m\u001b[37m\u001b[0m \u001b[1m1s\u001b[0m 36ms/step - accuracy: 0.6687 - f1_score: 0.4840 - loss: 0.2011 - val_accuracy: 0.6608 - val_f1_score: 0.4584 - val_loss: 0.2062\n",
            "Epoch 14/500\n",
            "\u001b[1m36/36\u001b[0m \u001b[32m━━━━━━━━━━━━━━━━━━━━\u001b[0m\u001b[37m\u001b[0m \u001b[1m1s\u001b[0m 36ms/step - accuracy: 0.6525 - f1_score: 0.4896 - loss: 0.1866 - val_accuracy: 0.6608 - val_f1_score: 0.4677 - val_loss: 0.2045\n",
            "Epoch 15/500\n",
            "\u001b[1m36/36\u001b[0m \u001b[32m━━━━━━━━━━━━━━━━━━━━\u001b[0m\u001b[37m\u001b[0m \u001b[1m1s\u001b[0m 36ms/step - accuracy: 0.6547 - f1_score: 0.4667 - loss: 0.1882 - val_accuracy: 0.6608 - val_f1_score: 0.4757 - val_loss: 0.2030\n",
            "Epoch 16/500\n",
            "\u001b[1m36/36\u001b[0m \u001b[32m━━━━━━━━━━━━━━━━━━━━\u001b[0m\u001b[37m\u001b[0m \u001b[1m1s\u001b[0m 37ms/step - accuracy: 0.6713 - f1_score: 0.4931 - loss: 0.1794 - val_accuracy: 0.6801 - val_f1_score: 0.4840 - val_loss: 0.2022\n",
            "Epoch 17/500\n",
            "\u001b[1m36/36\u001b[0m \u001b[32m━━━━━━━━━━━━━━━━━━━━\u001b[0m\u001b[37m\u001b[0m \u001b[1m1s\u001b[0m 36ms/step - accuracy: 0.6792 - f1_score: 0.5036 - loss: 0.1773 - val_accuracy: 0.6661 - val_f1_score: 0.4812 - val_loss: 0.2044\n",
            "Epoch 18/500\n",
            "\u001b[1m36/36\u001b[0m \u001b[32m━━━━━━━━━━━━━━━━━━━━\u001b[0m\u001b[37m\u001b[0m \u001b[1m1s\u001b[0m 36ms/step - accuracy: 0.6811 - f1_score: 0.5094 - loss: 0.1685 - val_accuracy: 0.6696 - val_f1_score: 0.4899 - val_loss: 0.2087\n",
            "Epoch 19/500\n",
            "\u001b[1m36/36\u001b[0m \u001b[32m━━━━━━━━━━━━━━━━━━━━\u001b[0m\u001b[37m\u001b[0m \u001b[1m1s\u001b[0m 37ms/step - accuracy: 0.7011 - f1_score: 0.5281 - loss: 0.1562 - val_accuracy: 0.6783 - val_f1_score: 0.4966 - val_loss: 0.2032\n",
            "Epoch 20/500\n",
            "\u001b[1m36/36\u001b[0m \u001b[32m━━━━━━━━━━━━━━━━━━━━\u001b[0m\u001b[37m\u001b[0m \u001b[1m1s\u001b[0m 36ms/step - accuracy: 0.7252 - f1_score: 0.5619 - loss: 0.1390 - val_accuracy: 0.6853 - val_f1_score: 0.5049 - val_loss: 0.2024\n",
            "Epoch 21/500\n",
            "\u001b[1m36/36\u001b[0m \u001b[32m━━━━━━━━━━━━━━━━━━━━\u001b[0m\u001b[37m\u001b[0m \u001b[1m1s\u001b[0m 37ms/step - accuracy: 0.7293 - f1_score: 0.5565 - loss: 0.1433 - val_accuracy: 0.6853 - val_f1_score: 0.5020 - val_loss: 0.2015\n",
            "Epoch 22/500\n",
            "\u001b[1m36/36\u001b[0m \u001b[32m━━━━━━━━━━━━━━━━━━━━\u001b[0m\u001b[37m\u001b[0m \u001b[1m1s\u001b[0m 37ms/step - accuracy: 0.7339 - f1_score: 0.5630 - loss: 0.1417 - val_accuracy: 0.6818 - val_f1_score: 0.5108 - val_loss: 0.1980\n",
            "Epoch 23/500\n",
            "\u001b[1m36/36\u001b[0m \u001b[32m━━━━━━━━━━━━━━━━━━━━\u001b[0m\u001b[37m\u001b[0m \u001b[1m1s\u001b[0m 37ms/step - accuracy: 0.7286 - f1_score: 0.5620 - loss: 0.1378 - val_accuracy: 0.6836 - val_f1_score: 0.5105 - val_loss: 0.1992\n",
            "Epoch 24/500\n",
            "\u001b[1m36/36\u001b[0m \u001b[32m━━━━━━━━━━━━━━━━━━━━\u001b[0m\u001b[37m\u001b[0m \u001b[1m1s\u001b[0m 37ms/step - accuracy: 0.7525 - f1_score: 0.5850 - loss: 0.1184 - val_accuracy: 0.6871 - val_f1_score: 0.5145 - val_loss: 0.1987\n",
            "Epoch 25/500\n",
            "\u001b[1m36/36\u001b[0m \u001b[32m━━━━━━━━━━━━━━━━━━━━\u001b[0m\u001b[37m\u001b[0m \u001b[1m1s\u001b[0m 37ms/step - accuracy: 0.7523 - f1_score: 0.6011 - loss: 0.1253 - val_accuracy: 0.6906 - val_f1_score: 0.5122 - val_loss: 0.1972\n",
            "Epoch 26/500\n",
            "\u001b[1m36/36\u001b[0m \u001b[32m━━━━━━━━━━━━━━━━━━━━\u001b[0m\u001b[37m\u001b[0m \u001b[1m1s\u001b[0m 36ms/step - accuracy: 0.7509 - f1_score: 0.5953 - loss: 0.1156 - val_accuracy: 0.6836 - val_f1_score: 0.5184 - val_loss: 0.1958\n",
            "Epoch 27/500\n",
            "\u001b[1m36/36\u001b[0m \u001b[32m━━━━━━━━━━━━━━━━━━━━\u001b[0m\u001b[37m\u001b[0m \u001b[1m1s\u001b[0m 37ms/step - accuracy: 0.7731 - f1_score: 0.6188 - loss: 0.1079 - val_accuracy: 0.6801 - val_f1_score: 0.5109 - val_loss: 0.1986\n",
            "Epoch 28/500\n",
            "\u001b[1m36/36\u001b[0m \u001b[32m━━━━━━━━━━━━━━━━━━━━\u001b[0m\u001b[37m\u001b[0m \u001b[1m1s\u001b[0m 37ms/step - accuracy: 0.7686 - f1_score: 0.6120 - loss: 0.1107 - val_accuracy: 0.6818 - val_f1_score: 0.5173 - val_loss: 0.1970\n",
            "Epoch 29/500\n",
            "\u001b[1m36/36\u001b[0m \u001b[32m━━━━━━━━━━━━━━━━━━━━\u001b[0m\u001b[37m\u001b[0m \u001b[1m1s\u001b[0m 37ms/step - accuracy: 0.7704 - f1_score: 0.6148 - loss: 0.1159 - val_accuracy: 0.6993 - val_f1_score: 0.5183 - val_loss: 0.1954\n",
            "Epoch 30/500\n",
            "\u001b[1m36/36\u001b[0m \u001b[32m━━━━━━━━━━━━━━━━━━━━\u001b[0m\u001b[37m\u001b[0m \u001b[1m1s\u001b[0m 37ms/step - accuracy: 0.7710 - f1_score: 0.5967 - loss: 0.1052 - val_accuracy: 0.6818 - val_f1_score: 0.5074 - val_loss: 0.1960\n",
            "Epoch 31/500\n",
            "\u001b[1m36/36\u001b[0m \u001b[32m━━━━━━━━━━━━━━━━━━━━\u001b[0m\u001b[37m\u001b[0m \u001b[1m1s\u001b[0m 37ms/step - accuracy: 0.7757 - f1_score: 0.6122 - loss: 0.1063 - val_accuracy: 0.6871 - val_f1_score: 0.5019 - val_loss: 0.2002\n",
            "Epoch 32/500\n",
            "\u001b[1m36/36\u001b[0m \u001b[32m━━━━━━━━━━━━━━━━━━━━\u001b[0m\u001b[37m\u001b[0m \u001b[1m1s\u001b[0m 37ms/step - accuracy: 0.8075 - f1_score: 0.6293 - loss: 0.0885 - val_accuracy: 0.6818 - val_f1_score: 0.5157 - val_loss: 0.1964\n",
            "Epoch 33/500\n",
            "\u001b[1m36/36\u001b[0m \u001b[32m━━━━━━━━━━━━━━━━━━━━\u001b[0m\u001b[37m\u001b[0m \u001b[1m1s\u001b[0m 37ms/step - accuracy: 0.7881 - f1_score: 0.6323 - loss: 0.0994 - val_accuracy: 0.7010 - val_f1_score: 0.5044 - val_loss: 0.1992\n",
            "Epoch 34/500\n",
            "\u001b[1m36/36\u001b[0m \u001b[32m━━━━━━━━━━━━━━━━━━━━\u001b[0m\u001b[37m\u001b[0m \u001b[1m1s\u001b[0m 36ms/step - accuracy: 0.8174 - f1_score: 0.6734 - loss: 0.0816 - val_accuracy: 0.6871 - val_f1_score: 0.5088 - val_loss: 0.2023\n",
            "Epoch 35/500\n",
            "\u001b[1m36/36\u001b[0m \u001b[32m━━━━━━━━━━━━━━━━━━━━\u001b[0m\u001b[37m\u001b[0m \u001b[1m1s\u001b[0m 37ms/step - accuracy: 0.8015 - f1_score: 0.6555 - loss: 0.0896 - val_accuracy: 0.6941 - val_f1_score: 0.5136 - val_loss: 0.2015\n",
            "Epoch 36/500\n",
            "\u001b[1m36/36\u001b[0m \u001b[32m━━━━━━━━━━━━━━━━━━━━\u001b[0m\u001b[37m\u001b[0m \u001b[1m1s\u001b[0m 36ms/step - accuracy: 0.8270 - f1_score: 0.6392 - loss: 0.0786 - val_accuracy: 0.6941 - val_f1_score: 0.5251 - val_loss: 0.2034\n",
            "Epoch 37/500\n",
            "\u001b[1m36/36\u001b[0m \u001b[32m━━━━━━━━━━━━━━━━━━━━\u001b[0m\u001b[37m\u001b[0m \u001b[1m1s\u001b[0m 36ms/step - accuracy: 0.8091 - f1_score: 0.6579 - loss: 0.0913 - val_accuracy: 0.6958 - val_f1_score: 0.5320 - val_loss: 0.2055\n",
            "Epoch 38/500\n",
            "\u001b[1m36/36\u001b[0m \u001b[32m━━━━━━━━━━━━━━━━━━━━\u001b[0m\u001b[37m\u001b[0m \u001b[1m1s\u001b[0m 36ms/step - accuracy: 0.8241 - f1_score: 0.6362 - loss: 0.0839 - val_accuracy: 0.7010 - val_f1_score: 0.5204 - val_loss: 0.2068\n",
            "Epoch 39/500\n",
            "\u001b[1m36/36\u001b[0m \u001b[32m━━━━━━━━━━━━━━━━━━━━\u001b[0m\u001b[37m\u001b[0m \u001b[1m1s\u001b[0m 36ms/step - accuracy: 0.8294 - f1_score: 0.6994 - loss: 0.0729 - val_accuracy: 0.6923 - val_f1_score: 0.5273 - val_loss: 0.2074\n"
          ]
        },
        {
          "data": {
            "text/plain": [
              "<keras.src.callbacks.history.History at 0x21f93877a90>"
            ]
          },
          "execution_count": 39,
          "metadata": {},
          "output_type": "execute_result"
        }
      ],
      "source": [
        "mlp_model = Sequential([\n",
        "    Dense(2048, activation='relu', input_shape=(6144,)),\n",
        "    BatchNormalization(),\n",
        "    Dropout(0.5),\n",
        "\n",
        "    Dense(512, activation='relu', input_shape=(6144,)),\n",
        "    BatchNormalization(),\n",
        "    Dropout(0.5),\n",
        "\n",
        "    Dense(128, activation='relu'),\n",
        "    BatchNormalization(),\n",
        "    Dropout(0.5),\n",
        "\n",
        "    Dense(21, activation='softmax')\n",
        "])\n",
        "\n",
        "def f1_score(y_true, y_pred):\n",
        "    y_pred = K.round(y_pred)\n",
        "\n",
        "    tp = K.sum(K.cast(y_true * y_pred, 'float'), axis=0)\n",
        "    fp = K.sum(K.cast((1 - y_true) * y_pred, 'float'), axis=0)\n",
        "    fn = K.sum(K.cast(y_true * (1 - y_pred), 'float'), axis=0)\n",
        "\n",
        "    precision = tp / (tp + fp + K.epsilon())\n",
        "    recall = tp / (tp + fn + K.epsilon())\n",
        "    f1 = 2 * (precision * recall) / (precision + recall + K.epsilon())\n",
        "    return K.mean(f1)\n",
        "\n",
        "def focal_loss(alpha=0.25, gamma=2.0):\n",
        "    def loss(y_true, y_pred):\n",
        "        epsilon = K.epsilon()\n",
        "        y_pred = K.clip(y_pred, epsilon, 1.0 - epsilon)\n",
        "        cross_entropy = -y_true * K.log(y_pred)\n",
        "        loss = alpha * K.pow(1 - y_pred, gamma) * cross_entropy\n",
        "        return K.sum(loss, axis=1)\n",
        "    return loss\n",
        "\n",
        "early_stopping = EarlyStopping(monitor='val_loss', patience=10, restore_best_weights=True)\n",
        "\n",
        "mlp_model.compile(optimizer=Adam(learning_rate=0.0001),\n",
        "                  loss=focal_loss(),\n",
        "                  metrics=['accuracy', f1_score])\n",
        "mlp_model.fit(train_embeddings, train_labels,\n",
        "              validation_data=(val_embeddings, val_labels),\n",
        "              epochs=500, batch_size=64,\n",
        "              callbacks=[early_stopping])"
      ]
    },
    {
      "cell_type": "code",
      "execution_count": null,
      "metadata": {
        "id": "C11AUhrgpXNQ"
      },
      "outputs": [],
      "source": [
        "# saved_mlp_model = tf.keras.models.save_model(filepath = 'content/model.keras', model = mlp_model)\n",
        "# mlp_model.save('content/model.keras')"
      ]
    },
    {
      "cell_type": "code",
      "execution_count": null,
      "metadata": {
        "id": "nU8QsLz5pXNQ",
        "outputId": "ae71ff34-da48-4577-f665-86e5a87657eb"
      },
      "outputs": [
        {
          "data": {
            "text/html": [
              "<pre style=\"white-space:pre;overflow-x:auto;line-height:normal;font-family:Menlo,'DejaVu Sans Mono',consolas,'Courier New',monospace\"><span style=\"font-weight: bold\">Model: \"sequential_13\"</span>\n",
              "</pre>\n"
            ],
            "text/plain": [
              "\u001b[1mModel: \"sequential_13\"\u001b[0m\n"
            ]
          },
          "metadata": {},
          "output_type": "display_data"
        },
        {
          "data": {
            "text/html": [
              "<pre style=\"white-space:pre;overflow-x:auto;line-height:normal;font-family:Menlo,'DejaVu Sans Mono',consolas,'Courier New',monospace\">┏━━━━━━━━━━━━━━━━━━━━━━━━━━━━━━━━━┳━━━━━━━━━━━━━━━━━━━━━━━━┳━━━━━━━━━━━━━━━┓\n",
              "┃<span style=\"font-weight: bold\"> Layer (type)                    </span>┃<span style=\"font-weight: bold\"> Output Shape           </span>┃<span style=\"font-weight: bold\">       Param # </span>┃\n",
              "┡━━━━━━━━━━━━━━━━━━━━━━━━━━━━━━━━━╇━━━━━━━━━━━━━━━━━━━━━━━━╇━━━━━━━━━━━━━━━┩\n",
              "│ dense_52 (<span style=\"color: #0087ff; text-decoration-color: #0087ff\">Dense</span>)                │ (<span style=\"color: #00d7ff; text-decoration-color: #00d7ff\">None</span>, <span style=\"color: #00af00; text-decoration-color: #00af00\">2048</span>)           │    <span style=\"color: #00af00; text-decoration-color: #00af00\">12,584,960</span> │\n",
              "├─────────────────────────────────┼────────────────────────┼───────────────┤\n",
              "│ batch_normalization_39          │ (<span style=\"color: #00d7ff; text-decoration-color: #00d7ff\">None</span>, <span style=\"color: #00af00; text-decoration-color: #00af00\">2048</span>)           │         <span style=\"color: #00af00; text-decoration-color: #00af00\">8,192</span> │\n",
              "│ (<span style=\"color: #0087ff; text-decoration-color: #0087ff\">BatchNormalization</span>)            │                        │               │\n",
              "├─────────────────────────────────┼────────────────────────┼───────────────┤\n",
              "│ dropout_39 (<span style=\"color: #0087ff; text-decoration-color: #0087ff\">Dropout</span>)            │ (<span style=\"color: #00d7ff; text-decoration-color: #00d7ff\">None</span>, <span style=\"color: #00af00; text-decoration-color: #00af00\">2048</span>)           │             <span style=\"color: #00af00; text-decoration-color: #00af00\">0</span> │\n",
              "├─────────────────────────────────┼────────────────────────┼───────────────┤\n",
              "│ dense_53 (<span style=\"color: #0087ff; text-decoration-color: #0087ff\">Dense</span>)                │ (<span style=\"color: #00d7ff; text-decoration-color: #00d7ff\">None</span>, <span style=\"color: #00af00; text-decoration-color: #00af00\">512</span>)            │     <span style=\"color: #00af00; text-decoration-color: #00af00\">1,049,088</span> │\n",
              "├─────────────────────────────────┼────────────────────────┼───────────────┤\n",
              "│ batch_normalization_40          │ (<span style=\"color: #00d7ff; text-decoration-color: #00d7ff\">None</span>, <span style=\"color: #00af00; text-decoration-color: #00af00\">512</span>)            │         <span style=\"color: #00af00; text-decoration-color: #00af00\">2,048</span> │\n",
              "│ (<span style=\"color: #0087ff; text-decoration-color: #0087ff\">BatchNormalization</span>)            │                        │               │\n",
              "├─────────────────────────────────┼────────────────────────┼───────────────┤\n",
              "│ dropout_40 (<span style=\"color: #0087ff; text-decoration-color: #0087ff\">Dropout</span>)            │ (<span style=\"color: #00d7ff; text-decoration-color: #00d7ff\">None</span>, <span style=\"color: #00af00; text-decoration-color: #00af00\">512</span>)            │             <span style=\"color: #00af00; text-decoration-color: #00af00\">0</span> │\n",
              "├─────────────────────────────────┼────────────────────────┼───────────────┤\n",
              "│ dense_54 (<span style=\"color: #0087ff; text-decoration-color: #0087ff\">Dense</span>)                │ (<span style=\"color: #00d7ff; text-decoration-color: #00d7ff\">None</span>, <span style=\"color: #00af00; text-decoration-color: #00af00\">128</span>)            │        <span style=\"color: #00af00; text-decoration-color: #00af00\">65,664</span> │\n",
              "├─────────────────────────────────┼────────────────────────┼───────────────┤\n",
              "│ batch_normalization_41          │ (<span style=\"color: #00d7ff; text-decoration-color: #00d7ff\">None</span>, <span style=\"color: #00af00; text-decoration-color: #00af00\">128</span>)            │           <span style=\"color: #00af00; text-decoration-color: #00af00\">512</span> │\n",
              "│ (<span style=\"color: #0087ff; text-decoration-color: #0087ff\">BatchNormalization</span>)            │                        │               │\n",
              "├─────────────────────────────────┼────────────────────────┼───────────────┤\n",
              "│ dropout_41 (<span style=\"color: #0087ff; text-decoration-color: #0087ff\">Dropout</span>)            │ (<span style=\"color: #00d7ff; text-decoration-color: #00d7ff\">None</span>, <span style=\"color: #00af00; text-decoration-color: #00af00\">128</span>)            │             <span style=\"color: #00af00; text-decoration-color: #00af00\">0</span> │\n",
              "├─────────────────────────────────┼────────────────────────┼───────────────┤\n",
              "│ dense_55 (<span style=\"color: #0087ff; text-decoration-color: #0087ff\">Dense</span>)                │ (<span style=\"color: #00d7ff; text-decoration-color: #00d7ff\">None</span>, <span style=\"color: #00af00; text-decoration-color: #00af00\">21</span>)             │         <span style=\"color: #00af00; text-decoration-color: #00af00\">2,709</span> │\n",
              "└─────────────────────────────────┴────────────────────────┴───────────────┘\n",
              "</pre>\n"
            ],
            "text/plain": [
              "┏━━━━━━━━━━━━━━━━━━━━━━━━━━━━━━━━━┳━━━━━━━━━━━━━━━━━━━━━━━━┳━━━━━━━━━━━━━━━┓\n",
              "┃\u001b[1m \u001b[0m\u001b[1mLayer (type)                   \u001b[0m\u001b[1m \u001b[0m┃\u001b[1m \u001b[0m\u001b[1mOutput Shape          \u001b[0m\u001b[1m \u001b[0m┃\u001b[1m \u001b[0m\u001b[1m      Param #\u001b[0m\u001b[1m \u001b[0m┃\n",
              "┡━━━━━━━━━━━━━━━━━━━━━━━━━━━━━━━━━╇━━━━━━━━━━━━━━━━━━━━━━━━╇━━━━━━━━━━━━━━━┩\n",
              "│ dense_52 (\u001b[38;5;33mDense\u001b[0m)                │ (\u001b[38;5;45mNone\u001b[0m, \u001b[38;5;34m2048\u001b[0m)           │    \u001b[38;5;34m12,584,960\u001b[0m │\n",
              "├─────────────────────────────────┼────────────────────────┼───────────────┤\n",
              "│ batch_normalization_39          │ (\u001b[38;5;45mNone\u001b[0m, \u001b[38;5;34m2048\u001b[0m)           │         \u001b[38;5;34m8,192\u001b[0m │\n",
              "│ (\u001b[38;5;33mBatchNormalization\u001b[0m)            │                        │               │\n",
              "├─────────────────────────────────┼────────────────────────┼───────────────┤\n",
              "│ dropout_39 (\u001b[38;5;33mDropout\u001b[0m)            │ (\u001b[38;5;45mNone\u001b[0m, \u001b[38;5;34m2048\u001b[0m)           │             \u001b[38;5;34m0\u001b[0m │\n",
              "├─────────────────────────────────┼────────────────────────┼───────────────┤\n",
              "│ dense_53 (\u001b[38;5;33mDense\u001b[0m)                │ (\u001b[38;5;45mNone\u001b[0m, \u001b[38;5;34m512\u001b[0m)            │     \u001b[38;5;34m1,049,088\u001b[0m │\n",
              "├─────────────────────────────────┼────────────────────────┼───────────────┤\n",
              "│ batch_normalization_40          │ (\u001b[38;5;45mNone\u001b[0m, \u001b[38;5;34m512\u001b[0m)            │         \u001b[38;5;34m2,048\u001b[0m │\n",
              "│ (\u001b[38;5;33mBatchNormalization\u001b[0m)            │                        │               │\n",
              "├─────────────────────────────────┼────────────────────────┼───────────────┤\n",
              "│ dropout_40 (\u001b[38;5;33mDropout\u001b[0m)            │ (\u001b[38;5;45mNone\u001b[0m, \u001b[38;5;34m512\u001b[0m)            │             \u001b[38;5;34m0\u001b[0m │\n",
              "├─────────────────────────────────┼────────────────────────┼───────────────┤\n",
              "│ dense_54 (\u001b[38;5;33mDense\u001b[0m)                │ (\u001b[38;5;45mNone\u001b[0m, \u001b[38;5;34m128\u001b[0m)            │        \u001b[38;5;34m65,664\u001b[0m │\n",
              "├─────────────────────────────────┼────────────────────────┼───────────────┤\n",
              "│ batch_normalization_41          │ (\u001b[38;5;45mNone\u001b[0m, \u001b[38;5;34m128\u001b[0m)            │           \u001b[38;5;34m512\u001b[0m │\n",
              "│ (\u001b[38;5;33mBatchNormalization\u001b[0m)            │                        │               │\n",
              "├─────────────────────────────────┼────────────────────────┼───────────────┤\n",
              "│ dropout_41 (\u001b[38;5;33mDropout\u001b[0m)            │ (\u001b[38;5;45mNone\u001b[0m, \u001b[38;5;34m128\u001b[0m)            │             \u001b[38;5;34m0\u001b[0m │\n",
              "├─────────────────────────────────┼────────────────────────┼───────────────┤\n",
              "│ dense_55 (\u001b[38;5;33mDense\u001b[0m)                │ (\u001b[38;5;45mNone\u001b[0m, \u001b[38;5;34m21\u001b[0m)             │         \u001b[38;5;34m2,709\u001b[0m │\n",
              "└─────────────────────────────────┴────────────────────────┴───────────────┘\n"
            ]
          },
          "metadata": {},
          "output_type": "display_data"
        },
        {
          "data": {
            "text/html": [
              "<pre style=\"white-space:pre;overflow-x:auto;line-height:normal;font-family:Menlo,'DejaVu Sans Mono',consolas,'Courier New',monospace\"><span style=\"font-weight: bold\"> Total params: </span><span style=\"color: #00af00; text-decoration-color: #00af00\">41,128,769</span> (156.89 MB)\n",
              "</pre>\n"
            ],
            "text/plain": [
              "\u001b[1m Total params: \u001b[0m\u001b[38;5;34m41,128,769\u001b[0m (156.89 MB)\n"
            ]
          },
          "metadata": {},
          "output_type": "display_data"
        },
        {
          "data": {
            "text/html": [
              "<pre style=\"white-space:pre;overflow-x:auto;line-height:normal;font-family:Menlo,'DejaVu Sans Mono',consolas,'Courier New',monospace\"><span style=\"font-weight: bold\"> Trainable params: </span><span style=\"color: #00af00; text-decoration-color: #00af00\">13,707,797</span> (52.29 MB)\n",
              "</pre>\n"
            ],
            "text/plain": [
              "\u001b[1m Trainable params: \u001b[0m\u001b[38;5;34m13,707,797\u001b[0m (52.29 MB)\n"
            ]
          },
          "metadata": {},
          "output_type": "display_data"
        },
        {
          "data": {
            "text/html": [
              "<pre style=\"white-space:pre;overflow-x:auto;line-height:normal;font-family:Menlo,'DejaVu Sans Mono',consolas,'Courier New',monospace\"><span style=\"font-weight: bold\"> Non-trainable params: </span><span style=\"color: #00af00; text-decoration-color: #00af00\">5,376</span> (21.00 KB)\n",
              "</pre>\n"
            ],
            "text/plain": [
              "\u001b[1m Non-trainable params: \u001b[0m\u001b[38;5;34m5,376\u001b[0m (21.00 KB)\n"
            ]
          },
          "metadata": {},
          "output_type": "display_data"
        },
        {
          "data": {
            "text/html": [
              "<pre style=\"white-space:pre;overflow-x:auto;line-height:normal;font-family:Menlo,'DejaVu Sans Mono',consolas,'Courier New',monospace\"><span style=\"font-weight: bold\"> Optimizer params: </span><span style=\"color: #00af00; text-decoration-color: #00af00\">27,415,596</span> (104.58 MB)\n",
              "</pre>\n"
            ],
            "text/plain": [
              "\u001b[1m Optimizer params: \u001b[0m\u001b[38;5;34m27,415,596\u001b[0m (104.58 MB)\n"
            ]
          },
          "metadata": {},
          "output_type": "display_data"
        }
      ],
      "source": [
        "# load_mlp_model = load_model('content/model.keras')\n",
        "# load_mlp_model.summary()\n",
        "mlp_model.summary()"
      ]
    },
    {
      "cell_type": "code",
      "execution_count": null,
      "metadata": {
        "id": "-Yo9jw0ipXNR",
        "outputId": "3a9840cf-4444-4201-fe72-2e9fcd052d53"
      },
      "outputs": [
        {
          "name": "stdout",
          "output_type": "stream",
          "text": [
            "total samples: 1227\n",
            "Processed 100/1227 images...\n",
            "Processed 200/1227 images...\n",
            "Processed 300/1227 images...\n",
            "Processed 400/1227 images...\n",
            "Processed 500/1227 images...\n",
            "Processed 600/1227 images...\n",
            "Processed 700/1227 images...\n",
            "Processed 800/1227 images...\n",
            "Processed 900/1227 images...\n",
            "Processed 1000/1227 images...\n",
            "Processed 1100/1227 images...\n",
            "Processed 1200/1227 images...\n",
            "Processed 1227/1227 images...\n",
            "✅ Feature extraction complete!\n",
            "\u001b[1m39/39\u001b[0m \u001b[32m━━━━━━━━━━━━━━━━━━━━\u001b[0m\u001b[37m\u001b[0m \u001b[1m0s\u001b[0m 4ms/step\n",
            "✅ Submission file saved as submission.csv\n"
          ]
        }
      ],
      "source": [
        "# Load the test data\n",
        "test_df = pd.read_csv('bttai-ajl-2025/test.csv')\n",
        "\n",
        "# Generate file paths for test images\n",
        "test_df['file_path'] = 'bttai-ajl-2025/test/test/' + test_df['md5hash'] + '.jpg'\n",
        "\n",
        "# Function to extract embeddings for test data\n",
        "def extract_test_embeddings(df):\n",
        "    embeddings = []\n",
        "    batch_size = 100\n",
        "    batch_images = []\n",
        "    total_samples = len(df)\n",
        "    print(\"total samples: \" + str(total_samples))\n",
        "    processed_samples = 0\n",
        "\n",
        "    for idx, row in df.iterrows():\n",
        "        encoded_image = encode_image_to_tfexample(row['file_path'])\n",
        "        if encoded_image is None:\n",
        "            continue\n",
        "\n",
        "        batch_images.append(encoded_image)\n",
        "\n",
        "        if len(batch_images) == batch_size:\n",
        "            input_tensor = tf.constant(batch_images)\n",
        "            infer = base_model.signatures[\"serving_default\"]\n",
        "            output = infer(inputs=input_tensor)\n",
        "            batch_embeddings = output['embedding'].numpy()\n",
        "\n",
        "            embeddings.extend(batch_embeddings)\n",
        "\n",
        "            processed_samples += len(batch_images)\n",
        "            print(f\"Processed {processed_samples}/{total_samples} images...\")\n",
        "\n",
        "            batch_images = []\n",
        "\n",
        "    if batch_images:\n",
        "        input_tensor = tf.constant(batch_images)\n",
        "        infer = base_model.signatures[\"serving_default\"]\n",
        "        output = infer(inputs=input_tensor)\n",
        "        batch_embeddings = output['embedding'].numpy()\n",
        "\n",
        "        embeddings.extend(batch_embeddings)\n",
        "\n",
        "        processed_samples += len(batch_images)\n",
        "        print(f\"Processed {processed_samples}/{total_samples} images...\")\n",
        "\n",
        "    print(\"✅ Feature extraction complete!\")\n",
        "    return np.array(embeddings)\n",
        "\n",
        "# Extract embeddings for test data\n",
        "test_embeddings = extract_test_embeddings(test_df)\n",
        "\n",
        "# Predict labels using the trained MLP model\n",
        "predictions = mlp_model.predict(test_embeddings)\n",
        "\n",
        "# Convert predictions back to original labels\n",
        "predicted_labels = label_encoder.inverse_transform(np.argmax(predictions, axis=1))\n",
        "\n",
        "# Create a submission DataFrame\n",
        "submission_df = test_df[['md5hash']].copy()\n",
        "submission_df['label'] = predicted_labels\n",
        "\n",
        "# Save the submission to CSV\n",
        "submission_df.to_csv('bttai-ajl-2025/submission.csv', index=False)\n",
        "\n",
        "print(\"✅ Submission file saved as submission.csv\")"
      ]
    },
    {
      "cell_type": "code",
      "execution_count": null,
      "metadata": {
        "id": "Ayy53VDDpXNR",
        "outputId": "620067ba-8361-42ff-c09b-7bbb53fd7467"
      },
      "outputs": [
        {
          "name": "stdout",
          "output_type": "stream",
          "text": [
            "['acne' 'acne-vulgaris' 'actinic-keratosis' 'basal-cell-carcinoma'\n",
            " 'basal-cell-carcinoma-morpheiform' 'dermatofibroma' 'dermatomyositis'\n",
            " 'dyshidrotic-eczema' 'eczema' 'epidermal-nevus' 'folliculitis'\n",
            " 'kaposi-sarcoma' 'keloid' 'malignant-melanoma' 'melanoma'\n",
            " 'mycosis-fungoides' 'prurigo-nodularis' 'pyogenic-granuloma'\n",
            " 'seborrheic-keratosis' 'squamous-cell-carcinoma'\n",
            " 'superficial-spreading-melanoma-ssm']\n",
            "\n",
            "\n",
            "Count of unique labels:  21\n"
          ]
        }
      ],
      "source": [
        "print(np.unique(predicted_labels))\n",
        "print('\\n')\n",
        "print('Count of unique labels: ', len(np.unique(predicted_labels)))"
      ]
    },
    {
      "cell_type": "code",
      "execution_count": null,
      "metadata": {
        "id": "32YX2-uGpXNR",
        "outputId": "b502c1da-faf0-4f9e-a51c-627cec1d35c5"
      },
      "outputs": [
        {
          "name": "stdout",
          "output_type": "stream",
          "text": [
            "['kaposi-sarcoma' 'actinic-keratosis' 'squamous-cell-carcinoma'\n",
            " 'acne-vulgaris' 'folliculitis' 'epidermal-nevus' 'basal-cell-carcinoma'\n",
            " 'melanoma' 'eczema' 'seborrheic-keratosis' 'mycosis-fungoides' 'acne'\n",
            " 'dermatofibroma' 'prurigo-nodularis' 'superficial-spreading-melanoma-ssm'\n",
            " 'keloid' 'dyshidrotic-eczema' 'malignant-melanoma' 'dermatomyositis'\n",
            " 'pyogenic-granuloma' 'basal-cell-carcinoma-morpheiform']\n",
            "\n",
            "\n",
            "Count of unique labels:  21\n"
          ]
        }
      ],
      "source": [
        "record = pd.read_csv('bttai-ajl-2025/submission.csv')\n",
        "print(record['label'].unique())\n",
        "print('\\n')\n",
        "print('Count of unique labels: ', len(record['label'].unique()))"
      ]
    }
  ],
  "metadata": {
    "colab": {
      "provenance": [],
      "include_colab_link": true
    },
    "kernelspec": {
      "display_name": "Python 3",
      "name": "python3"
    },
    "language_info": {
      "codemirror_mode": {
        "name": "ipython",
        "version": 3
      },
      "file_extension": ".py",
      "mimetype": "text/x-python",
      "name": "python",
      "nbconvert_exporter": "python",
      "pygments_lexer": "ipython3",
      "version": "3.11.2"
    },
    "widgets": {
      "application/vnd.jupyter.widget-state+json": {
        "158f2be2b6b1468eaa71d6fd8ff44238": {
          "model_module": "@jupyter-widgets/controls",
          "model_module_version": "1.5.0",
          "model_name": "ProgressStyleModel",
          "state": {
            "_model_module": "@jupyter-widgets/controls",
            "_model_module_version": "1.5.0",
            "_model_name": "ProgressStyleModel",
            "_view_count": null,
            "_view_module": "@jupyter-widgets/base",
            "_view_module_version": "1.2.0",
            "_view_name": "StyleView",
            "bar_color": null,
            "description_width": ""
          }
        },
        "16aacd7e7d2a43169e4f72a86aff6fd5": {
          "model_module": "@jupyter-widgets/controls",
          "model_module_version": "1.5.0",
          "model_name": "DescriptionStyleModel",
          "state": {
            "_model_module": "@jupyter-widgets/controls",
            "_model_module_version": "1.5.0",
            "_model_name": "DescriptionStyleModel",
            "_view_count": null,
            "_view_module": "@jupyter-widgets/base",
            "_view_module_version": "1.2.0",
            "_view_name": "StyleView",
            "description_width": ""
          }
        },
        "37945b60ddc44a358ffa1dc20fb86f3d": {
          "model_module": "@jupyter-widgets/controls",
          "model_module_version": "1.5.0",
          "model_name": "FloatProgressModel",
          "state": {
            "_dom_classes": [],
            "_model_module": "@jupyter-widgets/controls",
            "_model_module_version": "1.5.0",
            "_model_name": "FloatProgressModel",
            "_view_count": null,
            "_view_module": "@jupyter-widgets/controls",
            "_view_module_version": "1.5.0",
            "_view_name": "ProgressView",
            "bar_style": "success",
            "description": "",
            "description_tooltip": null,
            "layout": "IPY_MODEL_4cc6533e27384eb98e6a9548a4b8ac6c",
            "max": 7,
            "min": 0,
            "orientation": "horizontal",
            "style": "IPY_MODEL_158f2be2b6b1468eaa71d6fd8ff44238",
            "value": 7
          }
        },
        "4cc6533e27384eb98e6a9548a4b8ac6c": {
          "model_module": "@jupyter-widgets/base",
          "model_module_version": "1.2.0",
          "model_name": "LayoutModel",
          "state": {
            "_model_module": "@jupyter-widgets/base",
            "_model_module_version": "1.2.0",
            "_model_name": "LayoutModel",
            "_view_count": null,
            "_view_module": "@jupyter-widgets/base",
            "_view_module_version": "1.2.0",
            "_view_name": "LayoutView",
            "align_content": null,
            "align_items": null,
            "align_self": null,
            "border": null,
            "bottom": null,
            "display": null,
            "flex": null,
            "flex_flow": null,
            "grid_area": null,
            "grid_auto_columns": null,
            "grid_auto_flow": null,
            "grid_auto_rows": null,
            "grid_column": null,
            "grid_gap": null,
            "grid_row": null,
            "grid_template_areas": null,
            "grid_template_columns": null,
            "grid_template_rows": null,
            "height": null,
            "justify_content": null,
            "justify_items": null,
            "left": null,
            "margin": null,
            "max_height": null,
            "max_width": null,
            "min_height": null,
            "min_width": null,
            "object_fit": null,
            "object_position": null,
            "order": null,
            "overflow": null,
            "overflow_x": null,
            "overflow_y": null,
            "padding": null,
            "right": null,
            "top": null,
            "visibility": null,
            "width": null
          }
        },
        "4fb2ef65fac04099a9baa4f514ba0659": {
          "model_module": "@jupyter-widgets/controls",
          "model_module_version": "1.5.0",
          "model_name": "HTMLModel",
          "state": {
            "_dom_classes": [],
            "_model_module": "@jupyter-widgets/controls",
            "_model_module_version": "1.5.0",
            "_model_name": "HTMLModel",
            "_view_count": null,
            "_view_module": "@jupyter-widgets/controls",
            "_view_module_version": "1.5.0",
            "_view_name": "HTMLView",
            "description": "",
            "description_tooltip": null,
            "layout": "IPY_MODEL_a8663f0a16b8403cb2973d6751a5c4e9",
            "placeholder": "​",
            "style": "IPY_MODEL_16aacd7e7d2a43169e4f72a86aff6fd5",
            "value": "Fetching 7 files: 100%"
          }
        },
        "64c6a35a2de44169aa6f0f0a342c08ba": {
          "model_module": "@jupyter-widgets/controls",
          "model_module_version": "1.5.0",
          "model_name": "DescriptionStyleModel",
          "state": {
            "_model_module": "@jupyter-widgets/controls",
            "_model_module_version": "1.5.0",
            "_model_name": "DescriptionStyleModel",
            "_view_count": null,
            "_view_module": "@jupyter-widgets/base",
            "_view_module_version": "1.2.0",
            "_view_name": "StyleView",
            "description_width": ""
          }
        },
        "77b55fea3be0472b8bf653bc5d07050a": {
          "model_module": "@jupyter-widgets/controls",
          "model_module_version": "1.5.0",
          "model_name": "HTMLModel",
          "state": {
            "_dom_classes": [],
            "_model_module": "@jupyter-widgets/controls",
            "_model_module_version": "1.5.0",
            "_model_name": "HTMLModel",
            "_view_count": null,
            "_view_module": "@jupyter-widgets/controls",
            "_view_module_version": "1.5.0",
            "_view_name": "HTMLView",
            "description": "",
            "description_tooltip": null,
            "layout": "IPY_MODEL_e0e0943e6b744f4b8d434adf215cac50",
            "placeholder": "​",
            "style": "IPY_MODEL_64c6a35a2de44169aa6f0f0a342c08ba",
            "value": " 7/7 [00:00&lt;00:00, 550.42it/s]"
          }
        },
        "9d4cb9dc822c47e499c6a839a2a50808": {
          "model_module": "@jupyter-widgets/base",
          "model_module_version": "1.2.0",
          "model_name": "LayoutModel",
          "state": {
            "_model_module": "@jupyter-widgets/base",
            "_model_module_version": "1.2.0",
            "_model_name": "LayoutModel",
            "_view_count": null,
            "_view_module": "@jupyter-widgets/base",
            "_view_module_version": "1.2.0",
            "_view_name": "LayoutView",
            "align_content": null,
            "align_items": null,
            "align_self": null,
            "border": null,
            "bottom": null,
            "display": null,
            "flex": null,
            "flex_flow": null,
            "grid_area": null,
            "grid_auto_columns": null,
            "grid_auto_flow": null,
            "grid_auto_rows": null,
            "grid_column": null,
            "grid_gap": null,
            "grid_row": null,
            "grid_template_areas": null,
            "grid_template_columns": null,
            "grid_template_rows": null,
            "height": null,
            "justify_content": null,
            "justify_items": null,
            "left": null,
            "margin": null,
            "max_height": null,
            "max_width": null,
            "min_height": null,
            "min_width": null,
            "object_fit": null,
            "object_position": null,
            "order": null,
            "overflow": null,
            "overflow_x": null,
            "overflow_y": null,
            "padding": null,
            "right": null,
            "top": null,
            "visibility": null,
            "width": null
          }
        },
        "a8663f0a16b8403cb2973d6751a5c4e9": {
          "model_module": "@jupyter-widgets/base",
          "model_module_version": "1.2.0",
          "model_name": "LayoutModel",
          "state": {
            "_model_module": "@jupyter-widgets/base",
            "_model_module_version": "1.2.0",
            "_model_name": "LayoutModel",
            "_view_count": null,
            "_view_module": "@jupyter-widgets/base",
            "_view_module_version": "1.2.0",
            "_view_name": "LayoutView",
            "align_content": null,
            "align_items": null,
            "align_self": null,
            "border": null,
            "bottom": null,
            "display": null,
            "flex": null,
            "flex_flow": null,
            "grid_area": null,
            "grid_auto_columns": null,
            "grid_auto_flow": null,
            "grid_auto_rows": null,
            "grid_column": null,
            "grid_gap": null,
            "grid_row": null,
            "grid_template_areas": null,
            "grid_template_columns": null,
            "grid_template_rows": null,
            "height": null,
            "justify_content": null,
            "justify_items": null,
            "left": null,
            "margin": null,
            "max_height": null,
            "max_width": null,
            "min_height": null,
            "min_width": null,
            "object_fit": null,
            "object_position": null,
            "order": null,
            "overflow": null,
            "overflow_x": null,
            "overflow_y": null,
            "padding": null,
            "right": null,
            "top": null,
            "visibility": null,
            "width": null
          }
        },
        "d1733079faed45238448bebbcd7e718c": {
          "model_module": "@jupyter-widgets/controls",
          "model_module_version": "1.5.0",
          "model_name": "HBoxModel",
          "state": {
            "_dom_classes": [],
            "_model_module": "@jupyter-widgets/controls",
            "_model_module_version": "1.5.0",
            "_model_name": "HBoxModel",
            "_view_count": null,
            "_view_module": "@jupyter-widgets/controls",
            "_view_module_version": "1.5.0",
            "_view_name": "HBoxView",
            "box_style": "",
            "children": [
              "IPY_MODEL_4fb2ef65fac04099a9baa4f514ba0659",
              "IPY_MODEL_37945b60ddc44a358ffa1dc20fb86f3d",
              "IPY_MODEL_77b55fea3be0472b8bf653bc5d07050a"
            ],
            "layout": "IPY_MODEL_9d4cb9dc822c47e499c6a839a2a50808"
          }
        },
        "e0e0943e6b744f4b8d434adf215cac50": {
          "model_module": "@jupyter-widgets/base",
          "model_module_version": "1.2.0",
          "model_name": "LayoutModel",
          "state": {
            "_model_module": "@jupyter-widgets/base",
            "_model_module_version": "1.2.0",
            "_model_name": "LayoutModel",
            "_view_count": null,
            "_view_module": "@jupyter-widgets/base",
            "_view_module_version": "1.2.0",
            "_view_name": "LayoutView",
            "align_content": null,
            "align_items": null,
            "align_self": null,
            "border": null,
            "bottom": null,
            "display": null,
            "flex": null,
            "flex_flow": null,
            "grid_area": null,
            "grid_auto_columns": null,
            "grid_auto_flow": null,
            "grid_auto_rows": null,
            "grid_column": null,
            "grid_gap": null,
            "grid_row": null,
            "grid_template_areas": null,
            "grid_template_columns": null,
            "grid_template_rows": null,
            "height": null,
            "justify_content": null,
            "justify_items": null,
            "left": null,
            "margin": null,
            "max_height": null,
            "max_width": null,
            "min_height": null,
            "min_width": null,
            "object_fit": null,
            "object_position": null,
            "order": null,
            "overflow": null,
            "overflow_x": null,
            "overflow_y": null,
            "padding": null,
            "right": null,
            "top": null,
            "visibility": null,
            "width": null
          }
        }
      }
    }
  },
  "nbformat": 4,
  "nbformat_minor": 0
}